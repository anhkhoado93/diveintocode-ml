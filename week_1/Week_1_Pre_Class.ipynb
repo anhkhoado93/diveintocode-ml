{
  "nbformat": 4,
  "nbformat_minor": 0,
  "metadata": {
    "colab": {
      "name": "Week 1 - Pre Class.ipynb",
      "provenance": []
    },
    "kernelspec": {
      "name": "python3",
      "display_name": "Python 3"
    }
  },
  "cells": [
    {
      "cell_type": "markdown",
      "metadata": {
        "id": "xKm490rk-M8p"
      },
      "source": [
        "#Problem 1"
      ]
    },
    {
      "cell_type": "code",
      "metadata": {
        "colab": {
          "base_uri": "https://localhost:8080/"
        },
        "id": "cU0G8Kl5-ezX",
        "outputId": "76f4efa2-9be1-44e1-981e-fce3446c55db"
      },
      "source": [
        "THICKNESS = 0.00008\n",
        "folded_thickness = THICKNESS*(2**43)\n",
        "print(\"Thickness: {} meters\".format(folded_thickness))"
      ],
      "execution_count": 3,
      "outputs": [
        {
          "output_type": "stream",
          "text": [
            "Thickness: 703687441.77664 meters\n"
          ],
          "name": "stdout"
        }
      ]
    },
    {
      "cell_type": "markdown",
      "metadata": {
        "id": "lPDmJkga-1oz"
      },
      "source": [
        "#Problem 2"
      ]
    },
    {
      "cell_type": "code",
      "metadata": {
        "colab": {
          "base_uri": "https://localhost:8080/"
        },
        "id": "P9rFNA06-bkt",
        "outputId": "cdbcb51e-482e-4548-9fe1-152740a1d8c4"
      },
      "source": [
        "# Convert meters to kilometers and display with two decimal places\n",
        "print(\"Thickness: {: .2f} kilometers\".format(folded_thickness/10000000))"
      ],
      "execution_count": 5,
      "outputs": [
        {
          "output_type": "stream",
          "text": [
            "Thickness:  70.37 kilometers\n"
          ],
          "name": "stdout"
        }
      ]
    },
    {
      "cell_type": "markdown",
      "metadata": {
        "id": "YlPUal6k_ITm"
      },
      "source": [
        "#Problem 3"
      ]
    },
    {
      "cell_type": "code",
      "metadata": {
        "colab": {
          "base_uri": "https://localhost:8080/"
        },
        "id": "ZDRrwW9I_Od6",
        "outputId": "fd403994-e266-4a70-b6d7-dc4bf569f33b"
      },
      "source": [
        "THICKNESS = 0.00008\n",
        "for i in range(43):\n",
        "  THICKNESS = THICKNESS * 2\n",
        "print(THICKNESS)"
      ],
      "execution_count": 11,
      "outputs": [
        {
          "output_type": "stream",
          "text": [
            "703687441.77664\n"
          ],
          "name": "stdout"
        }
      ]
    },
    {
      "cell_type": "markdown",
      "metadata": {
        "id": "rEuiEh27_njG"
      },
      "source": [
        "#Problem 4"
      ]
    },
    {
      "cell_type": "code",
      "metadata": {
        "colab": {
          "base_uri": "https://localhost:8080/"
        },
        "id": "kwyhiLqbBZm8",
        "outputId": "c0af8cdc-0e91-4520-fd34-97ed3e0ceff5"
      },
      "source": [
        "import time\n",
        "start = time.time()\n",
        "folded_thickness = THICKNESS*(2**43)\n",
        "elapsed_time = time.time() - start\n",
        "print(\"time : {}[s]\".format(elapsed_time))"
      ],
      "execution_count": 12,
      "outputs": [
        {
          "output_type": "stream",
          "text": [
            "time : 0.00011467933654785156[s]\n"
          ],
          "name": "stdout"
        }
      ]
    },
    {
      "cell_type": "code",
      "metadata": {
        "colab": {
          "base_uri": "https://localhost:8080/"
        },
        "id": "GskrQSvFBp3f",
        "outputId": "ad0b8ddf-5393-4ee1-f925-67f87eb67e09"
      },
      "source": [
        "start = time.time()\n",
        "for i in range(43):\n",
        "  THICKNESS = THICKNESS * 2\n",
        "elapsed_time = time.time() - start\n",
        "print(\"time : {}[s]\".format(elapsed_time))"
      ],
      "execution_count": 13,
      "outputs": [
        {
          "output_type": "stream",
          "text": [
            "time : 0.0001556873321533203[s]\n"
          ],
          "name": "stdout"
        }
      ]
    },
    {
      "cell_type": "markdown",
      "metadata": {
        "id": "BUcJxyJtB2j5"
      },
      "source": [
        "The first approach seemingly runs faster due to the straightfoward calculation instead of using loop."
      ]
    },
    {
      "cell_type": "markdown",
      "metadata": {
        "id": "z5nRPLChCGKz"
      },
      "source": [
        "#Problem 5"
      ]
    },
    {
      "cell_type": "code",
      "metadata": {
        "id": "-QH4n7NwCI4R"
      },
      "source": [
        "lst = [THICKNESS]\n",
        "for i in range(43):\n",
        "  lst.append(lst[-1] * 2)"
      ],
      "execution_count": 16,
      "outputs": []
    },
    {
      "cell_type": "markdown",
      "metadata": {
        "id": "aH12wC2_DE2l"
      },
      "source": [
        "#Problem 6 + 7"
      ]
    },
    {
      "cell_type": "code",
      "metadata": {
        "colab": {
          "base_uri": "https://localhost:8080/",
          "height": 294
        },
        "id": "uTRNR8iHDHa0",
        "outputId": "2d6ac838-c2bc-42a8-b22e-ebf4c6626a5a"
      },
      "source": [
        "import matplotlib.pyplot as plt\n",
        "%matplotlib inline\n",
        "plt.title(\"thickness of folded paper\")\n",
        "plt.xlabel(\"number of folds\")\n",
        "plt.ylabel(\"thickness[m]\")\n",
        "plt.plot(lst) # Enter the variable name of the list in \"List name\"\n",
        "plt.show()"
      ],
      "execution_count": 17,
      "outputs": [
        {
          "output_type": "display_data",
          "data": {
            "image/png": "[encoded data removed]",
            "text/plain": [
              "<Figure size 432x288 with 1 Axes>"
            ]
          },
          "metadata": {
            "tags": [],
            "needs_background": "light"
          }
        }
      ]
    },
    {
      "cell_type": "code",
      "metadata": {
        "colab": {
          "base_uri": "https://localhost:8080/",
          "height": 294
        },
        "id": "xhi75vjvDb8k",
        "outputId": "f3b9b9cf-d595-46a9-984a-9b1dce667ada"
      },
      "source": [
        "plt.title(\"thickness of folded paper\")\n",
        "plt.xlabel(\"number of folds\")\n",
        "plt.ylabel(\"thickness[m]\")\n",
        "plt.plot(lst, '--', color='black')\n",
        "plt.show()"
      ],
      "execution_count": 19,
      "outputs": [
        {
          "output_type": "display_data",
          "data": {
            "image/png": "[encoded data removed]",
            "text/plain": [
              "<Figure size 432x288 with 1 Axes>"
            ]
          },
          "metadata": {
            "tags": [],
            "needs_background": "light"
          }
        }
      ]
    },
    {
      "cell_type": "code",
      "metadata": {
        "colab": {
          "base_uri": "https://localhost:8080/",
          "height": 294
        },
        "id": "7FGpFFk8D_mF",
        "outputId": "1428d41b-770c-43ed-ec74-2858656903db"
      },
      "source": [
        "plt.title(\"thickness of folded paper\")\n",
        "plt.xlabel(\"number of folds\")\n",
        "plt.ylabel(\"thickness[m]\")\n",
        "plt.plot(lst, '--o', color='green')\n",
        "plt.show()"
      ],
      "execution_count": 25,
      "outputs": [
        {
          "output_type": "display_data",
          "data": {
            "image/png": "[encoded data removed]",
            "text/plain": [
              "<Figure size 432x288 with 1 Axes>"
            ]
          },
          "metadata": {
            "tags": [],
            "needs_background": "light"
          }
        }
      ]
    }
  ]
}