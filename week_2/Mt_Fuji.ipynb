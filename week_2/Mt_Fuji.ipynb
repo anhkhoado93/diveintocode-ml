{
  "nbformat": 4,
  "nbformat_minor": 0,
  "metadata": {
    "colab": {
      "name": "Untitled0.ipynb",
      "provenance": [],
      "collapsed_sections": []
    },
    "kernelspec": {
      "display_name": "Python 3",
      "name": "python3"
    }
  },
  "cells": [
    {
      "cell_type": "markdown",
      "metadata": {
        "id": "1pGdTOeqOnAm"
      },
      "source": [
        "# Problem 1\n",
        "Minimum number of folds over Mt. Fuji"
      ]
    },
    {
      "cell_type": "code",
      "metadata": {
        "colab": {
          "base_uri": "https://localhost:8080/"
        },
        "id": "eui3XJTSOtBx",
        "outputId": "12a07406-7db1-4de5-dabf-071b681e96ca"
      },
      "source": [
        "MTFUJI_HEIGHT = 3776\n",
        "PAPER_THICKNESS = 0.00008     ## adjust your t0\n",
        "\n",
        "folded_paper = PAPER_THICKNESS\n",
        "times_fold = 0;\n",
        "while MTFUJI_HEIGHT > folded_paper:\n",
        "  folded_paper = folded_paper * 2\n",
        "  times_fold = times_fold + 1\n",
        "\n",
        "print(\"You need to fold a paper {} times to exceed mt. Fuji.\".format(times_fold))\n"
      ],
      "execution_count": 20,
      "outputs": [
        {
          "output_type": "stream",
          "text": [
            "You need to fold a paper 26 times to exceed mt. Fuji.\n"
          ],
          "name": "stdout"
        }
      ]
    },
    {
      "cell_type": "markdown",
      "metadata": {
        "id": "xLqXE1AsPwob"
      },
      "source": [
        "# Problem 2\n",
        "Create a function that inputs the distance and outputs how many times it bends. It should be possible to set the thickness before folding \n",
        "t0 as an argument.\n",
        "\n",
        "\n",
        "Use this function to calculate how many times you have to bend the paper to reach the \"closest non-Sun star.\" Investigate the distance of the \"closest non-sun star\".\n",
        "\n",
        "The closest non-Sun star is the Proxima Centauri ( 4.2465 lightyear )\n",
        "\n",
        "1 lightyear = 9.46×10^12 km"
      ]
    },
    {
      "cell_type": "code",
      "metadata": {
        "colab": {
          "base_uri": "https://localhost:8080/"
        },
        "id": "GMNSkCHRRpOP",
        "outputId": "db035028-a2e7-4633-f4ca-36fedc67f175"
      },
      "source": [
        "PAPER_THICKNESS = 0.00008     ## adjust your t0\n",
        "\n",
        "\n",
        "def getNumberOfFolds(dist):\n",
        "  folded_paper = PAPER_THICKNESS\n",
        "  times_fold = 0;\n",
        "  while dist > folded_paper:\n",
        "    folded_paper = folded_paper * 2\n",
        "    times_fold = times_fold + 1\n",
        "\n",
        "  return times_fold\n",
        "\n",
        "dist = 4.2465 * 9.46 * 10**12 * 10**3\n",
        "print(\"The distance of closest non-Sun star require {} numbers of fold of a paper\".format(getNumberOfFolds(dist)))\n",
        "  "
      ],
      "execution_count": 22,
      "outputs": [
        {
          "output_type": "stream",
          "text": [
            "The distance of closest non-Sun star require 59 numbers of fold of a paper\n"
          ],
          "name": "stdout"
        }
      ]
    },
    {
      "cell_type": "markdown",
      "metadata": {
        "id": "1CYBNiDmTKNt"
      },
      "source": [
        "# Problem 3\n",
        "Required paper length"
      ]
    },
    {
      "cell_type": "code",
      "metadata": {
        "colab": {
          "base_uri": "https://localhost:8080/"
        },
        "id": "Y4JRFeuIaUFG",
        "outputId": "a850c542-8e8e-4cc1-f6ff-3ebab2ae0cbd"
      },
      "source": [
        "PAPER_THICKNESS = 0.00008     ## adjust your t0\n",
        "\n",
        "from math import pi, ceil\n",
        "def getPaperLength(distance):\n",
        "  no_fold = getNumberOfFolds(distance)\n",
        "\n",
        "  length = (pi * PAPER_THICKNESS / 6) * (2**no_fold + 4) * (2**no_fold - 1)\n",
        "\n",
        "  return length\n",
        "\n",
        "\n",
        "print(\"You need a paper with length {} to reach the Moon.\".format(getPaperLength(384.400 * 10**3)))\n",
        "print(\"You need a paper with length {} to reach the Mt. Fuji\".format(getPaperLength(3776)))\n",
        "print(\"You need a paper with length {} to reach the closest Non-Sun star.\".format(getPaperLength(4.2465 * 9.46 * 10**12 * 10 * 3)))"
      ],
      "execution_count": 29,
      "outputs": [
        {
          "output_type": "stream",
          "text": [
            "You need a paper with length 3090781636525682.5 to reach the Moon.\n",
            "You need a paper with length 188646348487.24017 to reach the Mt. Fuji\n",
            "You need a paper with length 1.4253714454199559e+34 to reach the closest Non-Sun star.\n"
          ],
          "name": "stdout"
        }
      ]
    }
  ]
}