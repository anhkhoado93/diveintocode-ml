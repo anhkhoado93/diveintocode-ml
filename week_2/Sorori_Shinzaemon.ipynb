{
  "nbformat": 4,
  "nbformat_minor": 0,
  "metadata": {
    "colab": {
      "name": "Untitled0.ipynb",
      "provenance": [],
      "collapsed_sections": []
    },
    "kernelspec": {
      "display_name": "Python 3",
      "name": "python3"
    }
  },
  "cells": [
    {
      "cell_type": "markdown",
      "metadata": {
        "id": "iYtoJxPrGRYc"
      },
      "source": [
        "#Sorori Shinzaemon"
      ]
    },
    {
      "cell_type": "markdown",
      "metadata": {
        "id": "bGCkjtwSFP6V"
      },
      "source": [
        "# Problem 1 + Problem 2"
      ]
    },
    {
      "cell_type": "code",
      "metadata": {
        "colab": {
          "base_uri": "https://localhost:8080/"
        },
        "id": "EOxg6Tq17gYY",
        "outputId": "449510d5-19ea-441d-86b8-3e5d1d0c3506"
      },
      "source": [
        "def compute_sorori_shinzaemon(day=100):\n",
        "    \"\"\"\n",
        "    A function that verifies the anecdote of rice by Sorori Shinzaemon. Calculate the number of rice grains per day.\n",
        "    Parameteres\n",
        "    --------------\n",
        "    day: int\n",
        "        Number of days to get rice (default : 100)\n",
        "    Returns\n",
        "    --------------\n",
        "    list_n_grains : list\n",
        "        List of the number of rice you get one day (the length of the list is equal to day)\n",
        "    list_total_grains : list\n",
        "        List of the total number of rice you will receive by a certain day (the length of the list will be equal to day)\n",
        "    \"\"\"\n",
        "    # Write the code here. pass is an instruction that means do nothing.\n",
        "    list_n_grains = []\n",
        "    list_total_grains = []\n",
        "\n",
        "    for i in range(day):\n",
        "      if list_n_grains:\n",
        "        list_n_grains.append(list_n_grains[-1] * 2)\n",
        "      else:\n",
        "        list_n_grains.append(1)\n",
        "      if list_total_grains:\n",
        "        list_total_grains.append(list_total_grains[-1] + list_n_grains[-1])\n",
        "      else:\n",
        "        list_total_grains.append(list_n_grains[-1])\n",
        "    return list_n_grains, list_total_grains\n",
        "\n",
        "list_n_grains, list_total_grains = compute_sorori_shinzaemon(day=10)\n"
      ],
      "execution_count": 4,
      "outputs": [
        {
          "output_type": "stream",
          "text": [
            "[1, 2, 4, 8, 16, 32, 64, 128, 256, 512] [1, 3, 7, 15, 31, 63, 127, 255, 511, 1023]\n"
          ],
          "name": "stdout"
        }
      ]
    },
    {
      "cell_type": "code",
      "metadata": {
        "colab": {
          "base_uri": "https://localhost:8080/",
          "height": 294
        },
        "id": "OEVfxqxXFnsz",
        "outputId": "7cb35db6-7f19-41dc-bbde-a6a507eae1e4"
      },
      "source": [
        "import matplotlib.pyplot as plt\n",
        "%matplotlib inline\n",
        "plt.title(\"Sorori Shinzaemon\")\n",
        "plt.xlabel(\"days\")\n",
        "plt.ylabel(\"number of grains\")\n",
        "plt.plot(list_n_grains)\n",
        "plt.plot(list_total_grains) \n",
        "plt.show()"
      ],
      "execution_count": 17,
      "outputs": [
        {
          "output_type": "display_data",
          "data": {
            "image/png": "[encoded data removed]",
            "text/plain": [
              "<Figure size 432x288 with 1 Axes>"
            ]
          },
          "metadata": {
            "tags": [],
            "needs_background": "light"
          }
        }
      ]
    },
    {
      "cell_type": "markdown",
      "metadata": {
        "id": "eIfWUsbXH6HP"
      },
      "source": [
        "# Problem 3 \n",
        "\n",
        "The average person consume roughly 250g of carb per day.\n",
        "\n",
        "According to [this website](https://www.traditionaloven.com/culinary-arts/flours/rice-flour/convert-100-grams-per-100g-to-grain.html), 100g of rice is roughly 1500 grains. \n",
        "\n",
        "Therefore, an average person need 3750 grains of rice per day"
      ]
    },
    {
      "cell_type": "code",
      "metadata": {
        "colab": {
          "base_uri": "https://localhost:8080/"
        },
        "id": "-Dp72Y2eH7ov",
        "outputId": "c1a4a73f-b5dd-4621-8787-04b1c90667dd"
      },
      "source": [
        "GRAINS_PER_PERSON = 3750\n",
        "\n",
        "def getNumberOfDays(days, no_people):\n",
        "  _, list_total_grains = compute_sorori_shinzaemon(days)\n",
        "\n",
        "  total_grains = list_total_grains[-1] #number of grains\n",
        "  grains_p_day = no_people * GRAINS_PER_PERSON # number of grains consumed by no_people per day\n",
        "\n",
        "  return total_grains / grains_p_day\n",
        "\n",
        "d = getNumberOfDays(50, 100)\n",
        "print(d)"
      ],
      "execution_count": 16,
      "outputs": [
        {
          "output_type": "stream",
          "text": [
            "3002399751.580328\n"
          ],
          "name": "stdout"
        }
      ]
    }
  ]
}