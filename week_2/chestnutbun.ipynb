{
  "nbformat": 4,
  "nbformat_minor": 0,
  "metadata": {
    "colab": {
      "name": "Untitled0.ipynb",
      "provenance": [],
      "collapsed_sections": []
    },
    "kernelspec": {
      "display_name": "Python 3",
      "name": "python3"
    }
  },
  "cells": [
    {
      "cell_type": "markdown",
      "metadata": {
        "id": "O9iVQZcdgPMn"
      },
      "source": [
        "#CHESTNUT BUNS\n",
        "\n",
        "According to [this website](https://www.universetoday.com/15585/diameter-of-the-solar-system/#:~:text=It%20is%20143.73%20billion%20km,the%20Sun\\)%20equals%20149%2C597%2C870.691%20km.), the solar system have 9.09 billion km diameter.\n",
        "\n",
        "According to amazon, dorayaki are mostly 12 inches ( 0.3048 m )\n",
        "\n"
      ]
    },
    {
      "cell_type": "code",
      "metadata": {
        "colab": {
          "base_uri": "https://localhost:8080/"
        },
        "id": "byWIrUYei2V2",
        "outputId": "58963ba4-a0ad-4a19-bc76-22cf1e49354e"
      },
      "source": [
        "from math import log2\n",
        "\n",
        "SOLAR_DIAMETER = 9.09 * (10**9) * (10**3)\n",
        "DORAYAKI_DIAMETER = 0.3048\n",
        "\n",
        "#number of time the dorayaki doubles\n",
        "\n",
        "no_time = log2(SOLAR_DIAMETER / DORAYAKI_DIAMETER)\n",
        "\n",
        "# each time cost 5 mins\n",
        "time = no_time * 5\n",
        "\n",
        "print(\"It takes {} minutes for a chestnut bun to be the size of solar system\".format(time))"
      ],
      "execution_count": 34,
      "outputs": [
        {
          "output_type": "stream",
          "text": [
            "It takes 223.8074131256193 minutes for a chestnut bun to be the size of solar system\n"
          ],
          "name": "stdout"
        }
      ]
    }
  ]
}