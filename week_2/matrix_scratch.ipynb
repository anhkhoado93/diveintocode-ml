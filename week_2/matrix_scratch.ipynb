{
  "nbformat": 4,
  "nbformat_minor": 0,
  "metadata": {
    "colab": {
      "name": "Untitled0.ipynb",
      "provenance": [],
      "collapsed_sections": []
    },
    "kernelspec": {
      "display_name": "Python 3",
      "name": "python3"
    }
  },
  "cells": [
    {
      "cell_type": "markdown",
      "metadata": {
        "id": "fBs51vY76acj"
      },
      "source": [
        "#Problem 1"
      ]
    },
    {
      "cell_type": "markdown",
      "metadata": {
        "id": "tfu81l6y6wCK"
      },
      "source": [
        "The resulting matrix is a 3x3 matrix. Calculation is done in each box by multiplying each row of the first matrix to each collumn of the second matrix. \n",
        "This result in \n",
        "[[  6,  29, -20],\n",
        "[ 12,  52,  38],\n",
        "[-18, -51, -48]]\n",
        "matrix"
      ]
    },
    {
      "cell_type": "markdown",
      "metadata": {
        "id": "kwpH30xm6khC"
      },
      "source": [
        "#Problem 2"
      ]
    },
    {
      "cell_type": "code",
      "metadata": {
        "colab": {
          "base_uri": "https://localhost:8080/"
        },
        "id": "00kHrgLv6l5w",
        "outputId": "249d7424-340b-4b79-c7e0-81b9c3ac0abf"
      },
      "source": [
        "import numpy as np\n",
        "a_ndarray = np.array([[-1, 2, 3], [4, -5, 6], [7, 8, -9]])\n",
        "b_ndarray = np.array([[0, 2, 1], [0, 2, -8], [2, 9, -1]])\n",
        "\n",
        "ans = np.matmul(a_ndarray, b_ndarray)\n",
        "ans"
      ],
      "execution_count": 95,
      "outputs": [
        {
          "output_type": "execute_result",
          "data": {
            "text/plain": [
              "array([[  6,  29, -20],\n",
              "       [ 12,  52,  38],\n",
              "       [-18, -51, -48]])"
            ]
          },
          "metadata": {
            "tags": []
          },
          "execution_count": 95
        }
      ]
    },
    {
      "cell_type": "markdown",
      "metadata": {
        "id": "T0K69moZ7n3X"
      },
      "source": [
        "#Problem 3"
      ]
    },
    {
      "cell_type": "code",
      "metadata": {
        "colab": {
          "base_uri": "https://localhost:8080/"
        },
        "id": "gmo6ry2F7pEY",
        "outputId": "8efd8b52-9dd8-41a4-806a-8e2884842fd9"
      },
      "source": [
        "def myMatMul(a, b):\n",
        "  dimA = a.shape\n",
        "  dimB = b.shape\n",
        "  result = []\n",
        "  if dimA[1] != dimB[0]: print(\"Cannot be performed\")\n",
        "\n",
        "  for i in range(dimA[0]):\n",
        "    for j in range(dimB[1]):\n",
        "      result.append(np.sum(a[i,:] * b[:,j]))\n",
        "\n",
        "  return np.array(result).reshape(dimA[0], dimB[1])\n",
        "\n",
        "ans = myMatMul(a_ndarray, b_ndarray)\n",
        "ans"
      ],
      "execution_count": 97,
      "outputs": [
        {
          "output_type": "execute_result",
          "data": {
            "text/plain": [
              "array([[  6,  29, -20],\n",
              "       [ 12,  52,  38],\n",
              "       [-18, -51, -48]])"
            ]
          },
          "metadata": {
            "tags": []
          },
          "execution_count": 97
        }
      ]
    },
    {
      "cell_type": "markdown",
      "metadata": {
        "id": "l7kglUZH_qPi"
      },
      "source": [
        "#Problem 4"
      ]
    },
    {
      "cell_type": "code",
      "metadata": {
        "colab": {
          "base_uri": "https://localhost:8080/"
        },
        "id": "S-knzMnN_sKr",
        "outputId": "7bf282c4-a0e9-4cb0-bd7d-ea147963573b"
      },
      "source": [
        "def myMatMul2(a, b):\n",
        "  dimA = a.shape\n",
        "  dimB = b.shape\n",
        "  result = []\n",
        "  if dimA[1] != dimB[0]: print(\"Cannot be performed\")\n",
        "  \n",
        "  for i in range(dimA[0]):\n",
        "    for j in range(dimB[1]):\n",
        "      sum = 0;\n",
        "      for k in range(dimA[1]):\n",
        "        sum = sum + a[i, k] * b[k, j]\n",
        "      result.append(sum)\n",
        "\n",
        "  return np.array(result).reshape(dimA[0], dimB[1])\n",
        "\n",
        "ans = myMatMul(a_ndarray, b_ndarray)\n",
        "ans"
      ],
      "execution_count": 98,
      "outputs": [
        {
          "output_type": "execute_result",
          "data": {
            "text/plain": [
              "array([[  6,  29, -20],\n",
              "       [ 12,  52,  38],\n",
              "       [-18, -51, -48]])"
            ]
          },
          "metadata": {
            "tags": []
          },
          "execution_count": 98
        }
      ]
    },
    {
      "cell_type": "code",
      "metadata": {
        "colab": {
          "base_uri": "https://localhost:8080/"
        },
        "id": "jAOogUVuAS6s",
        "outputId": "5b1467c3-753e-4bcc-e607-9763834ab770"
      },
      "source": [
        "#PROBLEM 5\n",
        "\n",
        "np.transpose(a_ndarray)"
      ],
      "execution_count": 99,
      "outputs": [
        {
          "output_type": "execute_result",
          "data": {
            "text/plain": [
              "array([[-1,  4,  7],\n",
              "       [ 2, -5,  8],\n",
              "       [ 3,  6, -9]])"
            ]
          },
          "metadata": {
            "tags": []
          },
          "execution_count": 99
        }
      ]
    }
  ]
}