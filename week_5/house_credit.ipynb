{
  "nbformat": 4,
  "nbformat_minor": 0,
  "metadata": {
    "colab": {
      "name": "Untitled0.ipynb",
      "provenance": [],
      "collapsed_sections": [],
      "toc_visible": true
    },
    "kernelspec": {
      "name": "python3",
      "display_name": "Python 3"
    },
    "language_info": {
      "name": "python"
    }
  },
  "cells": [
    {
      "cell_type": "markdown",
      "metadata": {
        "id": "K7RtRg1ctvM8"
      },
      "source": [
        "#[Problem 1] Confirmation of competition contents\n",
        "\n",
        "\n",
        "**What to learn and what to predict?** \\\\\n",
        "We build a model that input users multiple informations and try to predict whether client is capable for on-time repayment\n",
        "\n",
        "**What kind of file to create and submit to Kaggle?** \\\\\n",
        "A csv file containing 2 columns: SK_ID_CURR which identifies each data point in the test set, and TARGET as prediction outcome\n",
        "\n",
        "**What kind of index value will be used to evaluate the submissions?** \\\\\n",
        "Area under the ROC curve. An ROC curve is evaluate and drawn based on setting different threshold for each outcome. Evaluate area under the curve can tell us how effective our model is compare to other model, or baseline.\n",
        "\n"
      ]
    },
    {
      "cell_type": "markdown",
      "metadata": {
        "id": "1JSQP2h4tx4-"
      },
      "source": [
        "#[Problem 2] Learning and verification\n",
        "Create and execute a series of steps from easy analysis, preprocessing, learning, and verification of data.\n",
        "\n",
        "\n",
        "For verification, please use the evaluation metrics used in this competition. The method used for learning is not specified.\n",
        "\n",
        "Wow this is alot."
      ]
    },
    {
      "cell_type": "code",
      "metadata": {
        "id": "urK0_gj0tuE9"
      },
      "source": [
        "import numpy as np\n",
        "import pandas as pd\n",
        "import gc\n",
        "import matplotlib.pyplot as plt\n",
        "import seaborn as sns\n",
        "import warnings\n",
        "warnings.filterwarnings(\"ignore\")\n",
        "from sklearn.impute import SimpleImputer"
      ],
      "execution_count": 23,
      "outputs": []
    },
    {
      "cell_type": "code",
      "metadata": {
        "id": "Eg9fQJAlt0p0"
      },
      "source": [
        "pd_data = pd.read_csv('application_train.csv')\n",
        "pd_test = pd.read_csv('application_test.csv')"
      ],
      "execution_count": 24,
      "outputs": []
    },
    {
      "cell_type": "code",
      "metadata": {
        "id": "Ua7PEhO4unYO",
        "colab": {
          "base_uri": "https://localhost:8080/",
          "height": 304
        },
        "outputId": "a893e865-d25e-44df-b998-d674e341b65c"
      },
      "source": [
        "pd_data.head(5)\n",
        "pd_test.head(5)"
      ],
      "execution_count": 25,
      "outputs": [
        {
          "output_type": "execute_result",
          "data": {
            "text/html": [
              "<div>\n",
              "<style scoped>\n",
              "    .dataframe tbody tr th:only-of-type {\n",
              "        vertical-align: middle;\n",
              "    }\n",
              "\n",
              "    .dataframe tbody tr th {\n",
              "        vertical-align: top;\n",
              "    }\n",
              "\n",
              "    .dataframe thead th {\n",
              "        text-align: right;\n",
              "    }\n",
              "</style>\n",
              "<table border=\"1\" class=\"dataframe\">\n",
              "  <thead>\n",
              "    <tr style=\"text-align: right;\">\n",
              "      <th></th>\n",
              "      <th>SK_ID_CURR</th>\n",
              "      <th>NAME_CONTRACT_TYPE</th>\n",
              "      <th>CODE_GENDER</th>\n",
              "      <th>FLAG_OWN_CAR</th>\n",
              "      <th>FLAG_OWN_REALTY</th>\n",
              "      <th>CNT_CHILDREN</th>\n",
              "      <th>AMT_INCOME_TOTAL</th>\n",
              "      <th>AMT_CREDIT</th>\n",
              "      <th>AMT_ANNUITY</th>\n",
              "      <th>AMT_GOODS_PRICE</th>\n",
              "      <th>NAME_TYPE_SUITE</th>\n",
              "      <th>NAME_INCOME_TYPE</th>\n",
              "      <th>NAME_EDUCATION_TYPE</th>\n",
              "      <th>NAME_FAMILY_STATUS</th>\n",
              "      <th>NAME_HOUSING_TYPE</th>\n",
              "      <th>REGION_POPULATION_RELATIVE</th>\n",
              "      <th>DAYS_BIRTH</th>\n",
              "      <th>DAYS_EMPLOYED</th>\n",
              "      <th>DAYS_REGISTRATION</th>\n",
              "      <th>DAYS_ID_PUBLISH</th>\n",
              "      <th>OWN_CAR_AGE</th>\n",
              "      <th>FLAG_MOBIL</th>\n",
              "      <th>FLAG_EMP_PHONE</th>\n",
              "      <th>FLAG_WORK_PHONE</th>\n",
              "      <th>FLAG_CONT_MOBILE</th>\n",
              "      <th>FLAG_PHONE</th>\n",
              "      <th>FLAG_EMAIL</th>\n",
              "      <th>OCCUPATION_TYPE</th>\n",
              "      <th>CNT_FAM_MEMBERS</th>\n",
              "      <th>REGION_RATING_CLIENT</th>\n",
              "      <th>REGION_RATING_CLIENT_W_CITY</th>\n",
              "      <th>WEEKDAY_APPR_PROCESS_START</th>\n",
              "      <th>HOUR_APPR_PROCESS_START</th>\n",
              "      <th>REG_REGION_NOT_LIVE_REGION</th>\n",
              "      <th>REG_REGION_NOT_WORK_REGION</th>\n",
              "      <th>LIVE_REGION_NOT_WORK_REGION</th>\n",
              "      <th>REG_CITY_NOT_LIVE_CITY</th>\n",
              "      <th>REG_CITY_NOT_WORK_CITY</th>\n",
              "      <th>LIVE_CITY_NOT_WORK_CITY</th>\n",
              "      <th>ORGANIZATION_TYPE</th>\n",
              "      <th>...</th>\n",
              "      <th>LIVINGAPARTMENTS_MEDI</th>\n",
              "      <th>LIVINGAREA_MEDI</th>\n",
              "      <th>NONLIVINGAPARTMENTS_MEDI</th>\n",
              "      <th>NONLIVINGAREA_MEDI</th>\n",
              "      <th>FONDKAPREMONT_MODE</th>\n",
              "      <th>HOUSETYPE_MODE</th>\n",
              "      <th>TOTALAREA_MODE</th>\n",
              "      <th>WALLSMATERIAL_MODE</th>\n",
              "      <th>EMERGENCYSTATE_MODE</th>\n",
              "      <th>OBS_30_CNT_SOCIAL_CIRCLE</th>\n",
              "      <th>DEF_30_CNT_SOCIAL_CIRCLE</th>\n",
              "      <th>OBS_60_CNT_SOCIAL_CIRCLE</th>\n",
              "      <th>DEF_60_CNT_SOCIAL_CIRCLE</th>\n",
              "      <th>DAYS_LAST_PHONE_CHANGE</th>\n",
              "      <th>FLAG_DOCUMENT_2</th>\n",
              "      <th>FLAG_DOCUMENT_3</th>\n",
              "      <th>FLAG_DOCUMENT_4</th>\n",
              "      <th>FLAG_DOCUMENT_5</th>\n",
              "      <th>FLAG_DOCUMENT_6</th>\n",
              "      <th>FLAG_DOCUMENT_7</th>\n",
              "      <th>FLAG_DOCUMENT_8</th>\n",
              "      <th>FLAG_DOCUMENT_9</th>\n",
              "      <th>FLAG_DOCUMENT_10</th>\n",
              "      <th>FLAG_DOCUMENT_11</th>\n",
              "      <th>FLAG_DOCUMENT_12</th>\n",
              "      <th>FLAG_DOCUMENT_13</th>\n",
              "      <th>FLAG_DOCUMENT_14</th>\n",
              "      <th>FLAG_DOCUMENT_15</th>\n",
              "      <th>FLAG_DOCUMENT_16</th>\n",
              "      <th>FLAG_DOCUMENT_17</th>\n",
              "      <th>FLAG_DOCUMENT_18</th>\n",
              "      <th>FLAG_DOCUMENT_19</th>\n",
              "      <th>FLAG_DOCUMENT_20</th>\n",
              "      <th>FLAG_DOCUMENT_21</th>\n",
              "      <th>AMT_REQ_CREDIT_BUREAU_HOUR</th>\n",
              "      <th>AMT_REQ_CREDIT_BUREAU_DAY</th>\n",
              "      <th>AMT_REQ_CREDIT_BUREAU_WEEK</th>\n",
              "      <th>AMT_REQ_CREDIT_BUREAU_MON</th>\n",
              "      <th>AMT_REQ_CREDIT_BUREAU_QRT</th>\n",
              "      <th>AMT_REQ_CREDIT_BUREAU_YEAR</th>\n",
              "    </tr>\n",
              "  </thead>\n",
              "  <tbody>\n",
              "    <tr>\n",
              "      <th>0</th>\n",
              "      <td>100001</td>\n",
              "      <td>Cash loans</td>\n",
              "      <td>F</td>\n",
              "      <td>N</td>\n",
              "      <td>Y</td>\n",
              "      <td>0</td>\n",
              "      <td>135000.0</td>\n",
              "      <td>568800.0</td>\n",
              "      <td>20560.5</td>\n",
              "      <td>450000.0</td>\n",
              "      <td>Unaccompanied</td>\n",
              "      <td>Working</td>\n",
              "      <td>Higher education</td>\n",
              "      <td>Married</td>\n",
              "      <td>House / apartment</td>\n",
              "      <td>0.018850</td>\n",
              "      <td>-19241</td>\n",
              "      <td>-2329</td>\n",
              "      <td>-5170.0</td>\n",
              "      <td>-812</td>\n",
              "      <td>NaN</td>\n",
              "      <td>1</td>\n",
              "      <td>1</td>\n",
              "      <td>0</td>\n",
              "      <td>1</td>\n",
              "      <td>0</td>\n",
              "      <td>1</td>\n",
              "      <td>NaN</td>\n",
              "      <td>2.0</td>\n",
              "      <td>2</td>\n",
              "      <td>2</td>\n",
              "      <td>TUESDAY</td>\n",
              "      <td>18</td>\n",
              "      <td>0</td>\n",
              "      <td>0</td>\n",
              "      <td>0</td>\n",
              "      <td>0</td>\n",
              "      <td>0</td>\n",
              "      <td>0</td>\n",
              "      <td>Kindergarten</td>\n",
              "      <td>...</td>\n",
              "      <td>NaN</td>\n",
              "      <td>0.0514</td>\n",
              "      <td>NaN</td>\n",
              "      <td>NaN</td>\n",
              "      <td>NaN</td>\n",
              "      <td>block of flats</td>\n",
              "      <td>0.0392</td>\n",
              "      <td>Stone, brick</td>\n",
              "      <td>No</td>\n",
              "      <td>0.0</td>\n",
              "      <td>0.0</td>\n",
              "      <td>0.0</td>\n",
              "      <td>0.0</td>\n",
              "      <td>-1740.0</td>\n",
              "      <td>0</td>\n",
              "      <td>1</td>\n",
              "      <td>0</td>\n",
              "      <td>0</td>\n",
              "      <td>0</td>\n",
              "      <td>0</td>\n",
              "      <td>0</td>\n",
              "      <td>0</td>\n",
              "      <td>0</td>\n",
              "      <td>0</td>\n",
              "      <td>0</td>\n",
              "      <td>0</td>\n",
              "      <td>0</td>\n",
              "      <td>0</td>\n",
              "      <td>0</td>\n",
              "      <td>0</td>\n",
              "      <td>0</td>\n",
              "      <td>0</td>\n",
              "      <td>0</td>\n",
              "      <td>0</td>\n",
              "      <td>0.0</td>\n",
              "      <td>0.0</td>\n",
              "      <td>0.0</td>\n",
              "      <td>0.0</td>\n",
              "      <td>0.0</td>\n",
              "      <td>0.0</td>\n",
              "    </tr>\n",
              "    <tr>\n",
              "      <th>1</th>\n",
              "      <td>100005</td>\n",
              "      <td>Cash loans</td>\n",
              "      <td>M</td>\n",
              "      <td>N</td>\n",
              "      <td>Y</td>\n",
              "      <td>0</td>\n",
              "      <td>99000.0</td>\n",
              "      <td>222768.0</td>\n",
              "      <td>17370.0</td>\n",
              "      <td>180000.0</td>\n",
              "      <td>Unaccompanied</td>\n",
              "      <td>Working</td>\n",
              "      <td>Secondary / secondary special</td>\n",
              "      <td>Married</td>\n",
              "      <td>House / apartment</td>\n",
              "      <td>0.035792</td>\n",
              "      <td>-18064</td>\n",
              "      <td>-4469</td>\n",
              "      <td>-9118.0</td>\n",
              "      <td>-1623</td>\n",
              "      <td>NaN</td>\n",
              "      <td>1</td>\n",
              "      <td>1</td>\n",
              "      <td>0</td>\n",
              "      <td>1</td>\n",
              "      <td>0</td>\n",
              "      <td>0</td>\n",
              "      <td>Low-skill Laborers</td>\n",
              "      <td>2.0</td>\n",
              "      <td>2</td>\n",
              "      <td>2</td>\n",
              "      <td>FRIDAY</td>\n",
              "      <td>9</td>\n",
              "      <td>0</td>\n",
              "      <td>0</td>\n",
              "      <td>0</td>\n",
              "      <td>0</td>\n",
              "      <td>0</td>\n",
              "      <td>0</td>\n",
              "      <td>Self-employed</td>\n",
              "      <td>...</td>\n",
              "      <td>NaN</td>\n",
              "      <td>NaN</td>\n",
              "      <td>NaN</td>\n",
              "      <td>NaN</td>\n",
              "      <td>NaN</td>\n",
              "      <td>NaN</td>\n",
              "      <td>NaN</td>\n",
              "      <td>NaN</td>\n",
              "      <td>NaN</td>\n",
              "      <td>0.0</td>\n",
              "      <td>0.0</td>\n",
              "      <td>0.0</td>\n",
              "      <td>0.0</td>\n",
              "      <td>0.0</td>\n",
              "      <td>0</td>\n",
              "      <td>1</td>\n",
              "      <td>0</td>\n",
              "      <td>0</td>\n",
              "      <td>0</td>\n",
              "      <td>0</td>\n",
              "      <td>0</td>\n",
              "      <td>0</td>\n",
              "      <td>0</td>\n",
              "      <td>0</td>\n",
              "      <td>0</td>\n",
              "      <td>0</td>\n",
              "      <td>0</td>\n",
              "      <td>0</td>\n",
              "      <td>0</td>\n",
              "      <td>0</td>\n",
              "      <td>0</td>\n",
              "      <td>0</td>\n",
              "      <td>0</td>\n",
              "      <td>0</td>\n",
              "      <td>0.0</td>\n",
              "      <td>0.0</td>\n",
              "      <td>0.0</td>\n",
              "      <td>0.0</td>\n",
              "      <td>0.0</td>\n",
              "      <td>3.0</td>\n",
              "    </tr>\n",
              "    <tr>\n",
              "      <th>2</th>\n",
              "      <td>100013</td>\n",
              "      <td>Cash loans</td>\n",
              "      <td>M</td>\n",
              "      <td>Y</td>\n",
              "      <td>Y</td>\n",
              "      <td>0</td>\n",
              "      <td>202500.0</td>\n",
              "      <td>663264.0</td>\n",
              "      <td>69777.0</td>\n",
              "      <td>630000.0</td>\n",
              "      <td>NaN</td>\n",
              "      <td>Working</td>\n",
              "      <td>Higher education</td>\n",
              "      <td>Married</td>\n",
              "      <td>House / apartment</td>\n",
              "      <td>0.019101</td>\n",
              "      <td>-20038</td>\n",
              "      <td>-4458</td>\n",
              "      <td>-2175.0</td>\n",
              "      <td>-3503</td>\n",
              "      <td>5.0</td>\n",
              "      <td>1</td>\n",
              "      <td>1</td>\n",
              "      <td>0</td>\n",
              "      <td>1</td>\n",
              "      <td>0</td>\n",
              "      <td>0</td>\n",
              "      <td>Drivers</td>\n",
              "      <td>2.0</td>\n",
              "      <td>2</td>\n",
              "      <td>2</td>\n",
              "      <td>MONDAY</td>\n",
              "      <td>14</td>\n",
              "      <td>0</td>\n",
              "      <td>0</td>\n",
              "      <td>0</td>\n",
              "      <td>0</td>\n",
              "      <td>0</td>\n",
              "      <td>0</td>\n",
              "      <td>Transport: type 3</td>\n",
              "      <td>...</td>\n",
              "      <td>NaN</td>\n",
              "      <td>NaN</td>\n",
              "      <td>NaN</td>\n",
              "      <td>NaN</td>\n",
              "      <td>NaN</td>\n",
              "      <td>NaN</td>\n",
              "      <td>NaN</td>\n",
              "      <td>NaN</td>\n",
              "      <td>NaN</td>\n",
              "      <td>0.0</td>\n",
              "      <td>0.0</td>\n",
              "      <td>0.0</td>\n",
              "      <td>0.0</td>\n",
              "      <td>-856.0</td>\n",
              "      <td>0</td>\n",
              "      <td>0</td>\n",
              "      <td>0</td>\n",
              "      <td>0</td>\n",
              "      <td>0</td>\n",
              "      <td>0</td>\n",
              "      <td>1</td>\n",
              "      <td>0</td>\n",
              "      <td>0</td>\n",
              "      <td>0</td>\n",
              "      <td>0</td>\n",
              "      <td>0</td>\n",
              "      <td>0</td>\n",
              "      <td>0</td>\n",
              "      <td>0</td>\n",
              "      <td>0</td>\n",
              "      <td>0</td>\n",
              "      <td>0</td>\n",
              "      <td>0</td>\n",
              "      <td>0</td>\n",
              "      <td>0.0</td>\n",
              "      <td>0.0</td>\n",
              "      <td>0.0</td>\n",
              "      <td>0.0</td>\n",
              "      <td>1.0</td>\n",
              "      <td>4.0</td>\n",
              "    </tr>\n",
              "    <tr>\n",
              "      <th>3</th>\n",
              "      <td>100028</td>\n",
              "      <td>Cash loans</td>\n",
              "      <td>F</td>\n",
              "      <td>N</td>\n",
              "      <td>Y</td>\n",
              "      <td>2</td>\n",
              "      <td>315000.0</td>\n",
              "      <td>1575000.0</td>\n",
              "      <td>49018.5</td>\n",
              "      <td>1575000.0</td>\n",
              "      <td>Unaccompanied</td>\n",
              "      <td>Working</td>\n",
              "      <td>Secondary / secondary special</td>\n",
              "      <td>Married</td>\n",
              "      <td>House / apartment</td>\n",
              "      <td>0.026392</td>\n",
              "      <td>-13976</td>\n",
              "      <td>-1866</td>\n",
              "      <td>-2000.0</td>\n",
              "      <td>-4208</td>\n",
              "      <td>NaN</td>\n",
              "      <td>1</td>\n",
              "      <td>1</td>\n",
              "      <td>0</td>\n",
              "      <td>1</td>\n",
              "      <td>1</td>\n",
              "      <td>0</td>\n",
              "      <td>Sales staff</td>\n",
              "      <td>4.0</td>\n",
              "      <td>2</td>\n",
              "      <td>2</td>\n",
              "      <td>WEDNESDAY</td>\n",
              "      <td>11</td>\n",
              "      <td>0</td>\n",
              "      <td>0</td>\n",
              "      <td>0</td>\n",
              "      <td>0</td>\n",
              "      <td>0</td>\n",
              "      <td>0</td>\n",
              "      <td>Business Entity Type 3</td>\n",
              "      <td>...</td>\n",
              "      <td>0.2446</td>\n",
              "      <td>0.3739</td>\n",
              "      <td>0.0388</td>\n",
              "      <td>0.0817</td>\n",
              "      <td>reg oper account</td>\n",
              "      <td>block of flats</td>\n",
              "      <td>0.3700</td>\n",
              "      <td>Panel</td>\n",
              "      <td>No</td>\n",
              "      <td>0.0</td>\n",
              "      <td>0.0</td>\n",
              "      <td>0.0</td>\n",
              "      <td>0.0</td>\n",
              "      <td>-1805.0</td>\n",
              "      <td>0</td>\n",
              "      <td>1</td>\n",
              "      <td>0</td>\n",
              "      <td>0</td>\n",
              "      <td>0</td>\n",
              "      <td>0</td>\n",
              "      <td>0</td>\n",
              "      <td>0</td>\n",
              "      <td>0</td>\n",
              "      <td>0</td>\n",
              "      <td>0</td>\n",
              "      <td>0</td>\n",
              "      <td>0</td>\n",
              "      <td>0</td>\n",
              "      <td>0</td>\n",
              "      <td>0</td>\n",
              "      <td>0</td>\n",
              "      <td>0</td>\n",
              "      <td>0</td>\n",
              "      <td>0</td>\n",
              "      <td>0.0</td>\n",
              "      <td>0.0</td>\n",
              "      <td>0.0</td>\n",
              "      <td>0.0</td>\n",
              "      <td>0.0</td>\n",
              "      <td>3.0</td>\n",
              "    </tr>\n",
              "    <tr>\n",
              "      <th>4</th>\n",
              "      <td>100038</td>\n",
              "      <td>Cash loans</td>\n",
              "      <td>M</td>\n",
              "      <td>Y</td>\n",
              "      <td>N</td>\n",
              "      <td>1</td>\n",
              "      <td>180000.0</td>\n",
              "      <td>625500.0</td>\n",
              "      <td>32067.0</td>\n",
              "      <td>625500.0</td>\n",
              "      <td>Unaccompanied</td>\n",
              "      <td>Working</td>\n",
              "      <td>Secondary / secondary special</td>\n",
              "      <td>Married</td>\n",
              "      <td>House / apartment</td>\n",
              "      <td>0.010032</td>\n",
              "      <td>-13040</td>\n",
              "      <td>-2191</td>\n",
              "      <td>-4000.0</td>\n",
              "      <td>-4262</td>\n",
              "      <td>16.0</td>\n",
              "      <td>1</td>\n",
              "      <td>1</td>\n",
              "      <td>1</td>\n",
              "      <td>1</td>\n",
              "      <td>0</td>\n",
              "      <td>0</td>\n",
              "      <td>NaN</td>\n",
              "      <td>3.0</td>\n",
              "      <td>2</td>\n",
              "      <td>2</td>\n",
              "      <td>FRIDAY</td>\n",
              "      <td>5</td>\n",
              "      <td>0</td>\n",
              "      <td>0</td>\n",
              "      <td>0</td>\n",
              "      <td>0</td>\n",
              "      <td>1</td>\n",
              "      <td>1</td>\n",
              "      <td>Business Entity Type 3</td>\n",
              "      <td>...</td>\n",
              "      <td>NaN</td>\n",
              "      <td>NaN</td>\n",
              "      <td>NaN</td>\n",
              "      <td>NaN</td>\n",
              "      <td>NaN</td>\n",
              "      <td>NaN</td>\n",
              "      <td>NaN</td>\n",
              "      <td>NaN</td>\n",
              "      <td>NaN</td>\n",
              "      <td>0.0</td>\n",
              "      <td>0.0</td>\n",
              "      <td>0.0</td>\n",
              "      <td>0.0</td>\n",
              "      <td>-821.0</td>\n",
              "      <td>0</td>\n",
              "      <td>1</td>\n",
              "      <td>0</td>\n",
              "      <td>0</td>\n",
              "      <td>0</td>\n",
              "      <td>0</td>\n",
              "      <td>0</td>\n",
              "      <td>0</td>\n",
              "      <td>0</td>\n",
              "      <td>0</td>\n",
              "      <td>0</td>\n",
              "      <td>0</td>\n",
              "      <td>0</td>\n",
              "      <td>0</td>\n",
              "      <td>0</td>\n",
              "      <td>0</td>\n",
              "      <td>0</td>\n",
              "      <td>0</td>\n",
              "      <td>0</td>\n",
              "      <td>0</td>\n",
              "      <td>NaN</td>\n",
              "      <td>NaN</td>\n",
              "      <td>NaN</td>\n",
              "      <td>NaN</td>\n",
              "      <td>NaN</td>\n",
              "      <td>NaN</td>\n",
              "    </tr>\n",
              "  </tbody>\n",
              "</table>\n",
              "<p>5 rows × 121 columns</p>\n",
              "</div>"
            ],
            "text/plain": [
              "   SK_ID_CURR  ... AMT_REQ_CREDIT_BUREAU_YEAR\n",
              "0      100001  ...                        0.0\n",
              "1      100005  ...                        3.0\n",
              "2      100013  ...                        4.0\n",
              "3      100028  ...                        3.0\n",
              "4      100038  ...                        NaN\n",
              "\n",
              "[5 rows x 121 columns]"
            ]
          },
          "metadata": {
            "tags": []
          },
          "execution_count": 25
        }
      ]
    },
    {
      "cell_type": "code",
      "metadata": {
        "id": "lPXpAeG-t7tq",
        "colab": {
          "base_uri": "https://localhost:8080/"
        },
        "outputId": "ff2b8fef-6302-41b5-b695-892d1745ed81"
      },
      "source": [
        "pd_data.info(verbose=True)"
      ],
      "execution_count": 26,
      "outputs": [
        {
          "output_type": "stream",
          "text": [
            "<class 'pandas.core.frame.DataFrame'>\n",
            "RangeIndex: 108657 entries, 0 to 108656\n",
            "Data columns (total 122 columns):\n",
            " #   Column                        Dtype  \n",
            "---  ------                        -----  \n",
            " 0   SK_ID_CURR                    int64  \n",
            " 1   TARGET                        int64  \n",
            " 2   NAME_CONTRACT_TYPE            object \n",
            " 3   CODE_GENDER                   object \n",
            " 4   FLAG_OWN_CAR                  object \n",
            " 5   FLAG_OWN_REALTY               object \n",
            " 6   CNT_CHILDREN                  int64  \n",
            " 7   AMT_INCOME_TOTAL              float64\n",
            " 8   AMT_CREDIT                    float64\n",
            " 9   AMT_ANNUITY                   float64\n",
            " 10  AMT_GOODS_PRICE               float64\n",
            " 11  NAME_TYPE_SUITE               object \n",
            " 12  NAME_INCOME_TYPE              object \n",
            " 13  NAME_EDUCATION_TYPE           object \n",
            " 14  NAME_FAMILY_STATUS            object \n",
            " 15  NAME_HOUSING_TYPE             object \n",
            " 16  REGION_POPULATION_RELATIVE    float64\n",
            " 17  DAYS_BIRTH                    float64\n",
            " 18  DAYS_EMPLOYED                 float64\n",
            " 19  DAYS_REGISTRATION             float64\n",
            " 20  DAYS_ID_PUBLISH               float64\n",
            " 21  OWN_CAR_AGE                   float64\n",
            " 22  FLAG_MOBIL                    float64\n",
            " 23  FLAG_EMP_PHONE                float64\n",
            " 24  FLAG_WORK_PHONE               float64\n",
            " 25  FLAG_CONT_MOBILE              float64\n",
            " 26  FLAG_PHONE                    float64\n",
            " 27  FLAG_EMAIL                    float64\n",
            " 28  OCCUPATION_TYPE               object \n",
            " 29  CNT_FAM_MEMBERS               float64\n",
            " 30  REGION_RATING_CLIENT          float64\n",
            " 31  REGION_RATING_CLIENT_W_CITY   float64\n",
            " 32  WEEKDAY_APPR_PROCESS_START    object \n",
            " 33  HOUR_APPR_PROCESS_START       float64\n",
            " 34  REG_REGION_NOT_LIVE_REGION    float64\n",
            " 35  REG_REGION_NOT_WORK_REGION    float64\n",
            " 36  LIVE_REGION_NOT_WORK_REGION   float64\n",
            " 37  REG_CITY_NOT_LIVE_CITY        float64\n",
            " 38  REG_CITY_NOT_WORK_CITY        float64\n",
            " 39  LIVE_CITY_NOT_WORK_CITY       float64\n",
            " 40  ORGANIZATION_TYPE             object \n",
            " 41  EXT_SOURCE_1                  float64\n",
            " 42  EXT_SOURCE_2                  float64\n",
            " 43  EXT_SOURCE_3                  float64\n",
            " 44  APARTMENTS_AVG                float64\n",
            " 45  BASEMENTAREA_AVG              float64\n",
            " 46  YEARS_BEGINEXPLUATATION_AVG   float64\n",
            " 47  YEARS_BUILD_AVG               float64\n",
            " 48  COMMONAREA_AVG                float64\n",
            " 49  ELEVATORS_AVG                 float64\n",
            " 50  ENTRANCES_AVG                 float64\n",
            " 51  FLOORSMAX_AVG                 float64\n",
            " 52  FLOORSMIN_AVG                 float64\n",
            " 53  LANDAREA_AVG                  float64\n",
            " 54  LIVINGAPARTMENTS_AVG          float64\n",
            " 55  LIVINGAREA_AVG                float64\n",
            " 56  NONLIVINGAPARTMENTS_AVG       float64\n",
            " 57  NONLIVINGAREA_AVG             float64\n",
            " 58  APARTMENTS_MODE               float64\n",
            " 59  BASEMENTAREA_MODE             float64\n",
            " 60  YEARS_BEGINEXPLUATATION_MODE  float64\n",
            " 61  YEARS_BUILD_MODE              float64\n",
            " 62  COMMONAREA_MODE               float64\n",
            " 63  ELEVATORS_MODE                float64\n",
            " 64  ENTRANCES_MODE                float64\n",
            " 65  FLOORSMAX_MODE                float64\n",
            " 66  FLOORSMIN_MODE                float64\n",
            " 67  LANDAREA_MODE                 float64\n",
            " 68  LIVINGAPARTMENTS_MODE         float64\n",
            " 69  LIVINGAREA_MODE               float64\n",
            " 70  NONLIVINGAPARTMENTS_MODE      float64\n",
            " 71  NONLIVINGAREA_MODE            float64\n",
            " 72  APARTMENTS_MEDI               float64\n",
            " 73  BASEMENTAREA_MEDI             float64\n",
            " 74  YEARS_BEGINEXPLUATATION_MEDI  float64\n",
            " 75  YEARS_BUILD_MEDI              float64\n",
            " 76  COMMONAREA_MEDI               float64\n",
            " 77  ELEVATORS_MEDI                float64\n",
            " 78  ENTRANCES_MEDI                float64\n",
            " 79  FLOORSMAX_MEDI                float64\n",
            " 80  FLOORSMIN_MEDI                float64\n",
            " 81  LANDAREA_MEDI                 float64\n",
            " 82  LIVINGAPARTMENTS_MEDI         float64\n",
            " 83  LIVINGAREA_MEDI               float64\n",
            " 84  NONLIVINGAPARTMENTS_MEDI      float64\n",
            " 85  NONLIVINGAREA_MEDI            float64\n",
            " 86  FONDKAPREMONT_MODE            object \n",
            " 87  HOUSETYPE_MODE                object \n",
            " 88  TOTALAREA_MODE                float64\n",
            " 89  WALLSMATERIAL_MODE            object \n",
            " 90  EMERGENCYSTATE_MODE           object \n",
            " 91  OBS_30_CNT_SOCIAL_CIRCLE      float64\n",
            " 92  DEF_30_CNT_SOCIAL_CIRCLE      float64\n",
            " 93  OBS_60_CNT_SOCIAL_CIRCLE      float64\n",
            " 94  DEF_60_CNT_SOCIAL_CIRCLE      float64\n",
            " 95  DAYS_LAST_PHONE_CHANGE        float64\n",
            " 96  FLAG_DOCUMENT_2               float64\n",
            " 97  FLAG_DOCUMENT_3               float64\n",
            " 98  FLAG_DOCUMENT_4               float64\n",
            " 99  FLAG_DOCUMENT_5               float64\n",
            " 100 FLAG_DOCUMENT_6               float64\n",
            " 101 FLAG_DOCUMENT_7               float64\n",
            " 102 FLAG_DOCUMENT_8               float64\n",
            " 103 FLAG_DOCUMENT_9               float64\n",
            " 104 FLAG_DOCUMENT_10              float64\n",
            " 105 FLAG_DOCUMENT_11              float64\n",
            " 106 FLAG_DOCUMENT_12              float64\n",
            " 107 FLAG_DOCUMENT_13              float64\n",
            " 108 FLAG_DOCUMENT_14              float64\n",
            " 109 FLAG_DOCUMENT_15              float64\n",
            " 110 FLAG_DOCUMENT_16              float64\n",
            " 111 FLAG_DOCUMENT_17              float64\n",
            " 112 FLAG_DOCUMENT_18              float64\n",
            " 113 FLAG_DOCUMENT_19              float64\n",
            " 114 FLAG_DOCUMENT_20              float64\n",
            " 115 FLAG_DOCUMENT_21              float64\n",
            " 116 AMT_REQ_CREDIT_BUREAU_HOUR    float64\n",
            " 117 AMT_REQ_CREDIT_BUREAU_DAY     float64\n",
            " 118 AMT_REQ_CREDIT_BUREAU_WEEK    float64\n",
            " 119 AMT_REQ_CREDIT_BUREAU_MON     float64\n",
            " 120 AMT_REQ_CREDIT_BUREAU_QRT     float64\n",
            " 121 AMT_REQ_CREDIT_BUREAU_YEAR    float64\n",
            "dtypes: float64(103), int64(3), object(16)\n",
            "memory usage: 101.1+ MB\n"
          ],
          "name": "stdout"
        }
      ]
    },
    {
      "cell_type": "code",
      "metadata": {
        "id": "sX5NVjHpt_Fp"
      },
      "source": [
        "def missing_table(data):\n",
        "  num = data.isnull().sum()\n",
        "  pct = num / len(data) * 100\n",
        "  tab = pd.concat([num, pct], axis=1, keys=['missing value', 'percentage']).sort_values('percentage', ascending=False)\n",
        "  print(tab)"
      ],
      "execution_count": 27,
      "outputs": []
    },
    {
      "cell_type": "code",
      "metadata": {
        "id": "-W__6QtzuVec",
        "colab": {
          "base_uri": "https://localhost:8080/"
        },
        "outputId": "f641e240-f1f4-4800-8108-f28e11716c7a"
      },
      "source": [
        "missing_table(pd_data)"
      ],
      "execution_count": 28,
      "outputs": [
        {
          "output_type": "stream",
          "text": [
            "                          missing value  percentage\n",
            "COMMONAREA_MEDI                   75833   69.791178\n",
            "COMMONAREA_AVG                    75833   69.791178\n",
            "COMMONAREA_MODE                   75833   69.791178\n",
            "NONLIVINGAPARTMENTS_MODE          75324   69.322731\n",
            "NONLIVINGAPARTMENTS_AVG           75324   69.322731\n",
            "...                                 ...         ...\n",
            "CNT_CHILDREN                          0    0.000000\n",
            "AMT_INCOME_TOTAL                      0    0.000000\n",
            "NAME_INCOME_TYPE                      0    0.000000\n",
            "TARGET                                0    0.000000\n",
            "SK_ID_CURR                            0    0.000000\n",
            "\n",
            "[122 rows x 2 columns]\n"
          ],
          "name": "stdout"
        }
      ]
    },
    {
      "cell_type": "code",
      "metadata": {
        "id": "FCehF99duWLY",
        "colab": {
          "base_uri": "https://localhost:8080/"
        },
        "outputId": "dbb65cfb-a134-45dc-9757-0add5b8b5a08"
      },
      "source": [
        "missing_table(pd_test)"
      ],
      "execution_count": 29,
      "outputs": [
        {
          "output_type": "stream",
          "text": [
            "                          missing value  percentage\n",
            "COMMONAREA_AVG                    33495   68.716150\n",
            "COMMONAREA_MODE                   33495   68.716150\n",
            "COMMONAREA_MEDI                   33495   68.716150\n",
            "NONLIVINGAPARTMENTS_AVG           33347   68.412523\n",
            "NONLIVINGAPARTMENTS_MODE          33347   68.412523\n",
            "...                                 ...         ...\n",
            "NAME_HOUSING_TYPE                     0    0.000000\n",
            "NAME_FAMILY_STATUS                    0    0.000000\n",
            "NAME_EDUCATION_TYPE                   0    0.000000\n",
            "NAME_INCOME_TYPE                      0    0.000000\n",
            "SK_ID_CURR                            0    0.000000\n",
            "\n",
            "[121 rows x 2 columns]\n"
          ],
          "name": "stdout"
        }
      ]
    },
    {
      "cell_type": "markdown",
      "metadata": {
        "id": "yrOg8c90uzGx"
      },
      "source": [
        "##Inspect Variable\n",
        "###TARGET\n",
        "From the bar chart below, we can easily deduce that this is an imbalanced class problem"
      ]
    },
    {
      "cell_type": "code",
      "metadata": {
        "id": "uPXhLuNNu61b",
        "colab": {
          "base_uri": "https://localhost:8080/",
          "height": 447
        },
        "outputId": "94d94c43-3372-468d-eed0-87570626397a"
      },
      "source": [
        "count_target = pd_data['TARGET'].value_counts()\n",
        "plt.figure(figsize=(7, 7))\n",
        "sns.barplot(y=count_target, x=count_target.index)"
      ],
      "execution_count": 30,
      "outputs": [
        {
          "output_type": "execute_result",
          "data": {
            "text/plain": [
              "<matplotlib.axes._subplots.AxesSubplot at 0x7f5f7adaeb90>"
            ]
          },
          "metadata": {
            "tags": []
          },
          "execution_count": 30
        },
        {
          "output_type": "display_data",
          "data": {
            "image/png": "[encoded data removed]",
            "text/plain": [
              "<Figure size 504x504 with 1 Axes>"
            ]
          },
          "metadata": {
            "tags": [],
            "needs_background": "light"
          }
        }
      ]
    },
    {
      "cell_type": "markdown",
      "metadata": {
        "id": "LlF2tQ9DvR7o"
      },
      "source": [
        "### Other"
      ]
    },
    {
      "cell_type": "code",
      "metadata": {
        "id": "uCrY8FMsveYb",
        "colab": {
          "base_uri": "https://localhost:8080/"
        },
        "outputId": "a9cd5052-79c8-4237-b81f-b05af0ce762c"
      },
      "source": [
        "pd_data.dtypes.value_counts()"
      ],
      "execution_count": 31,
      "outputs": [
        {
          "output_type": "execute_result",
          "data": {
            "text/plain": [
              "float64    103\n",
              "object      16\n",
              "int64        3\n",
              "dtype: int64"
            ]
          },
          "metadata": {
            "tags": []
          },
          "execution_count": 31
        }
      ]
    },
    {
      "cell_type": "markdown",
      "metadata": {
        "id": "HExXXhqjvfyA"
      },
      "source": [
        "We can see that there are 16 categorical variable (object). We need to convert these categorical variable to discrete variable. \\\\\n",
        "There are 2 ways we can perform this conversion:\n",
        "- One-hot encoding: assign each variable with n distinct category n flags.\n",
        "- Label encoding: each category is assigned a numerical value. (use for small category variable)"
      ]
    },
    {
      "cell_type": "code",
      "metadata": {
        "id": "WnBl_BUyvvoF",
        "colab": {
          "base_uri": "https://localhost:8080/"
        },
        "outputId": "e9105e1d-8d01-4f67-94bc-eae8ec6ea474"
      },
      "source": [
        "catvar = pd_data.select_dtypes('object').apply(pd.Series.nunique, axis=0)\n",
        "catvar"
      ],
      "execution_count": 32,
      "outputs": [
        {
          "output_type": "execute_result",
          "data": {
            "text/plain": [
              "NAME_CONTRACT_TYPE             2\n",
              "CODE_GENDER                    3\n",
              "FLAG_OWN_CAR                   2\n",
              "FLAG_OWN_REALTY                2\n",
              "NAME_TYPE_SUITE                7\n",
              "NAME_INCOME_TYPE               9\n",
              "NAME_EDUCATION_TYPE            5\n",
              "NAME_FAMILY_STATUS             6\n",
              "NAME_HOUSING_TYPE              6\n",
              "OCCUPATION_TYPE               18\n",
              "WEEKDAY_APPR_PROCESS_START     7\n",
              "ORGANIZATION_TYPE             58\n",
              "FONDKAPREMONT_MODE             4\n",
              "HOUSETYPE_MODE                 3\n",
              "WALLSMATERIAL_MODE             7\n",
              "EMERGENCYSTATE_MODE            2\n",
              "dtype: int64"
            ]
          },
          "metadata": {
            "tags": []
          },
          "execution_count": 32
        }
      ]
    },
    {
      "cell_type": "markdown",
      "metadata": {
        "id": "0EG9h20lwGCV"
      },
      "source": [
        "**Label Encoding**"
      ]
    },
    {
      "cell_type": "code",
      "metadata": {
        "id": "BsYAO00swIq0"
      },
      "source": [
        "from sklearn.preprocessing import LabelEncoder\n",
        "\n",
        "# get index of category variable with 2 cat\n",
        "catvar = catvar[catvar == 2].index\n",
        "le = LabelEncoder()\n",
        "for i in catvar:\n",
        "  le.fit(pd_data[i].astype(str))\n",
        "  pd_data[i] = le.transform(pd_data[i].astype(str))\n",
        "  pd_test[i] = le.transform(pd_test[i].astype(str))"
      ],
      "execution_count": 33,
      "outputs": []
    },
    {
      "cell_type": "markdown",
      "metadata": {
        "id": "Kubj1QhDwa3C"
      },
      "source": [
        "**One-hot Encoding and Aligning**"
      ]
    },
    {
      "cell_type": "code",
      "metadata": {
        "id": "90os1sNCwaos"
      },
      "source": [
        "pd_data = pd.get_dummies(pd_data)\n",
        "pd_test = pd.get_dummies(pd_test)\n",
        "\n",
        "pd_data.dtypes.value_counts()\n",
        "\n",
        "target = pd_data['TARGET']\n",
        "\n",
        "pd_data, pd_test = pd_data.align(pd_test, join='inner', axis=1)\n",
        "pd_data['TARGET'] = target"
      ],
      "execution_count": 34,
      "outputs": []
    },
    {
      "cell_type": "markdown",
      "metadata": {
        "id": "JxVaNFqWxVOI"
      },
      "source": [
        "Variable DAY_BIRTH accounts for number of days since birth ( naturally negative )."
      ]
    },
    {
      "cell_type": "code",
      "metadata": {
        "id": "zkb2zFVWx7bn"
      },
      "source": [
        "pd_data['DAYS_BIRTH'] = abs(pd_data['DAYS_BIRTH'])"
      ],
      "execution_count": 35,
      "outputs": []
    },
    {
      "cell_type": "markdown",
      "metadata": {
        "id": "e0JVLg0_yX02"
      },
      "source": [
        "## Correlation"
      ]
    },
    {
      "cell_type": "code",
      "metadata": {
        "id": "agnCRl2ryZb6",
        "colab": {
          "base_uri": "https://localhost:8080/"
        },
        "outputId": "a5a60bb2-ea5a-48f1-c475-1325dc98518b"
      },
      "source": [
        "target_corr = pd_data.corr()['TARGET'].sort_values(ascending=False)\n",
        "\n",
        "print(\"Top 10 positive correlation feature:\")\n",
        "print(target_corr.head(10), '\\n\\n')\n",
        "print(\"Top 10 negative correlation feature:\")\n",
        "print(target_corr.tail(10))"
      ],
      "execution_count": 36,
      "outputs": [
        {
          "output_type": "stream",
          "text": [
            "Top 10 positive correlation feature:\n",
            "TARGET                                               1.000000\n",
            "REGION_RATING_CLIENT_W_CITY                          0.062118\n",
            "REGION_RATING_CLIENT                                 0.060756\n",
            "NAME_INCOME_TYPE_Working                             0.058198\n",
            "CODE_GENDER_M                                        0.054988\n",
            "DAYS_LAST_PHONE_CHANGE                               0.052319\n",
            "DAYS_ID_PUBLISH                                      0.051958\n",
            "NAME_EDUCATION_TYPE_Secondary / secondary special    0.050506\n",
            "REG_CITY_NOT_WORK_CITY                               0.049408\n",
            "EMERGENCYSTATE_MODE                                  0.045800\n",
            "Name: TARGET, dtype: float64 \n",
            "\n",
            "\n",
            "Top 10 negative correlation feature:\n",
            "HOUSETYPE_MODE_block of flats          -0.044892\n",
            "FLOORSMAX_MODE                         -0.045804\n",
            "FLOORSMAX_MEDI                         -0.046673\n",
            "FLOORSMAX_AVG                          -0.047234\n",
            "CODE_GENDER_F                          -0.054969\n",
            "NAME_EDUCATION_TYPE_Higher education   -0.057305\n",
            "DAYS_BIRTH                             -0.076917\n",
            "EXT_SOURCE_1                           -0.154025\n",
            "EXT_SOURCE_2                           -0.161795\n",
            "EXT_SOURCE_3                           -0.177834\n",
            "Name: TARGET, dtype: float64\n"
          ],
          "name": "stdout"
        }
      ]
    },
    {
      "cell_type": "markdown",
      "metadata": {
        "id": "uhmw6n3ryjtU"
      },
      "source": [
        "## Pre-processing\n"
      ]
    },
    {
      "cell_type": "code",
      "metadata": {
        "id": "OAEZcpcSylip",
        "colab": {
          "base_uri": "https://localhost:8080/"
        },
        "outputId": "1d37469d-2f89-4bc9-d253-18fd62905553"
      },
      "source": [
        "from sklearn.preprocessing import StandardScaler\n",
        "from sklearn.impute import SimpleImputer\n",
        "\n",
        "train = pd_data.drop('TARGET', axis=1).copy()\n",
        "features = list(pd_data.columns)\n",
        "test = pd_test.copy()\n",
        "\n",
        "## FILL IN MISSING VALUE\n",
        "imputer = SimpleImputer(missing_values=np.nan, strategy='median')\n",
        "\n",
        "imputer.fit(train)\n",
        "train = imputer.transform(train)\n",
        "test = imputer.transform(test)\n",
        "\n",
        "## STANDARDIZING VARIABLE\n",
        "scaler = StandardScaler()\n",
        "\n",
        "scaler.fit(train)\n",
        "train = scaler.transform(train)\n",
        "test = scaler.transform(test)\n",
        "\n",
        "print('Training data shape: {}'.format(train.shape))\n",
        "print('Testing data shape: {}'.format(test.shape))"
      ],
      "execution_count": 37,
      "outputs": [
        {
          "output_type": "stream",
          "text": [
            "Training data shape: (108657, 238)\n",
            "Testing data shape: (48744, 238)\n"
          ],
          "name": "stdout"
        }
      ]
    },
    {
      "cell_type": "markdown",
      "metadata": {
        "id": "p7pxiI9LzBdP"
      },
      "source": [
        "#Problem 3: Base-line models"
      ]
    },
    {
      "cell_type": "code",
      "metadata": {
        "id": "7r79fn0ZzFQk"
      },
      "source": [
        "from sklearn.linear_model import SGDClassifier\n",
        "from sklearn.ensemble import RandomForestClassifier\n",
        "\n",
        "\n",
        "def learn_model(X_train, y_train,X_test, model):\n",
        "  model.fit(X_train, y_train)\n",
        "\n",
        "  y_pred = model.predict_proba(X_test)\n",
        "  return y_pred"
      ],
      "execution_count": 38,
      "outputs": []
    },
    {
      "cell_type": "code",
      "metadata": {
        "id": "Wwfc1t1UzV7b",
        "colab": {
          "base_uri": "https://localhost:8080/"
        },
        "outputId": "71e5c7bc-e6e1-4a2b-b7f9-1f7a8ac95e49"
      },
      "source": [
        "lgr = SGDClassifier(loss='log', n_jobs=-1, random_state=50)\n",
        "y_pred_lgr = learn_model(train, target, test, lgr)\n",
        "\n",
        "y_pred_lgr"
      ],
      "execution_count": 39,
      "outputs": [
        {
          "output_type": "execute_result",
          "data": {
            "text/plain": [
              "array([[0.91001226, 0.08998774],\n",
              "       [0.73341857, 0.26658143],\n",
              "       [0.86166643, 0.13833357],\n",
              "       ...,\n",
              "       [0.93864709, 0.06135291],\n",
              "       [0.91603378, 0.08396622],\n",
              "       [0.87991539, 0.12008461]])"
            ]
          },
          "metadata": {
            "tags": []
          },
          "execution_count": 39
        }
      ]
    },
    {
      "cell_type": "code",
      "metadata": {
        "id": "Lm3nf_zqzbvc",
        "colab": {
          "base_uri": "https://localhost:8080/"
        },
        "outputId": "1723e1af-ac56-4ce0-abb4-b56fb58b7d3d"
      },
      "source": [
        "rfc = RandomForestClassifier(n_estimators = 100, random_state = 50, verbose = 1, n_jobs = -1)\n",
        "y_pred_rfc = learn_model(train, target, test, rfc)\n",
        "\n",
        "y_pred_rfc"
      ],
      "execution_count": 40,
      "outputs": [
        {
          "output_type": "stream",
          "text": [
            "[Parallel(n_jobs=-1)]: Using backend ThreadingBackend with 2 concurrent workers.\n",
            "[Parallel(n_jobs=-1)]: Done  46 tasks      | elapsed:   20.6s\n",
            "[Parallel(n_jobs=-1)]: Done 100 out of 100 | elapsed:   44.2s finished\n",
            "[Parallel(n_jobs=2)]: Using backend ThreadingBackend with 2 concurrent workers.\n",
            "[Parallel(n_jobs=2)]: Done  46 tasks      | elapsed:    0.6s\n",
            "[Parallel(n_jobs=2)]: Done 100 out of 100 | elapsed:    1.4s finished\n"
          ],
          "name": "stderr"
        },
        {
          "output_type": "execute_result",
          "data": {
            "text/plain": [
              "array([[0.87, 0.13],\n",
              "       [0.89, 0.11],\n",
              "       [0.89, 0.11],\n",
              "       ...,\n",
              "       [0.86, 0.14],\n",
              "       [0.74, 0.26],\n",
              "       [0.79, 0.21]])"
            ]
          },
          "metadata": {
            "tags": []
          },
          "execution_count": 40
        }
      ]
    },
    {
      "cell_type": "markdown",
      "metadata": {
        "id": "KjBCK4a10WN5"
      },
      "source": [
        "# Problem 4: Feature Engineering\n",
        "\n",
        "Polynomial Features"
      ]
    },
    {
      "cell_type": "code",
      "metadata": {
        "id": "JUVwNIFGhwn9"
      },
      "source": [
        "pd_data = pd.read_csv('application_train.csv')\n",
        "pd_test = pd.read_csv('application_test.csv')"
      ],
      "execution_count": 41,
      "outputs": []
    },
    {
      "cell_type": "code",
      "metadata": {
        "id": "x97Qd0we2wUa",
        "colab": {
          "base_uri": "https://localhost:8080/"
        },
        "outputId": "afc3341b-107c-44ec-b81d-6f64c04d8470"
      },
      "source": [
        "# new dataframe\n",
        "\n",
        "poly_features = pd_data[['EXT_SOURCE_1', 'EXT_SOURCE_2', 'EXT_SOURCE_3', 'DAYS_BIRTH', 'TARGET']]\n",
        "poly_features_test = pd_test[['EXT_SOURCE_1', 'EXT_SOURCE_2', 'EXT_SOURCE_3', 'DAYS_BIRTH']]\n",
        "print(poly_features.dtypes.value_counts())\n",
        "# imputer for handling missing values\n",
        "from sklearn.impute import SimpleImputer\n",
        "imputer = SimpleImputer(strategy = 'median')\n",
        "\n",
        "poly_target = poly_features['TARGET']\n",
        "\n",
        "poly_features = poly_features.drop(columns = ['TARGET'])\n",
        "features = list(poly_features.columns)\n",
        "\n",
        "# Need to impute missing values\n",
        "poly_features = imputer.fit_transform(poly_features)\n",
        "poly_features_test = imputer.transform(poly_features_test)\n",
        "\n",
        "from sklearn.preprocessing import PolynomialFeatures\n",
        "                                  \n",
        "# Create the polynomial object with specified degree\n",
        "poly_transformer = PolynomialFeatures(degree = 3)\n",
        "\n",
        "# Train the polynomial features\n",
        "poly_transformer.fit(poly_features)\n",
        "\n",
        "# Transform the features\n",
        "poly_features = poly_transformer.transform(poly_features)\n",
        "poly_features_test = poly_transformer.transform(poly_features_test)\n",
        "print('Polynomial Features shape: ', poly_features.shape)\n",
        "poly_transformer.get_feature_names(input_features = ['EXT_SOURCE_1', 'EXT_SOURCE_2', 'EXT_SOURCE_3', 'DAYS_BIRTH'])[:15]"
      ],
      "execution_count": 63,
      "outputs": [
        {
          "output_type": "stream",
          "text": [
            "float64    3\n",
            "int64      2\n",
            "dtype: int64\n",
            "Polynomial Features shape:  (128091, 35)\n",
            "float64\n"
          ],
          "name": "stdout"
        },
        {
          "output_type": "execute_result",
          "data": {
            "text/plain": [
              "['1',\n",
              " 'EXT_SOURCE_1',\n",
              " 'EXT_SOURCE_2',\n",
              " 'EXT_SOURCE_3',\n",
              " 'DAYS_BIRTH',\n",
              " 'EXT_SOURCE_1^2',\n",
              " 'EXT_SOURCE_1 EXT_SOURCE_2',\n",
              " 'EXT_SOURCE_1 EXT_SOURCE_3',\n",
              " 'EXT_SOURCE_1 DAYS_BIRTH',\n",
              " 'EXT_SOURCE_2^2',\n",
              " 'EXT_SOURCE_2 EXT_SOURCE_3',\n",
              " 'EXT_SOURCE_2 DAYS_BIRTH',\n",
              " 'EXT_SOURCE_3^2',\n",
              " 'EXT_SOURCE_3 DAYS_BIRTH',\n",
              " 'DAYS_BIRTH^2']"
            ]
          },
          "metadata": {
            "tags": []
          },
          "execution_count": 63
        }
      ]
    },
    {
      "cell_type": "code",
      "metadata": {
        "id": "y-nh5yF_4JFd",
        "colab": {
          "base_uri": "https://localhost:8080/"
        },
        "outputId": "7ad4e108-460b-41c5-8d0e-43f0780142cb"
      },
      "source": [
        "poly_features_test = pd.DataFrame(poly_features_test, \n",
        "                                  columns = poly_transformer.get_feature_names(['EXT_SOURCE_1', 'EXT_SOURCE_2', \n",
        "                                                                                'EXT_SOURCE_3', 'DAYS_BIRTH']))\n",
        "poly_features = pd.DataFrame(poly_features)\n",
        "print(pd_data.dtypes.value_counts())\n",
        "# Merge polynomial features into training dataframe\n",
        "poly_features['SK_ID_CURR'] = pd_data['SK_ID_CURR']\n",
        "df_train_poly = pd_data.merge(poly_features, on = 'SK_ID_CURR', how = 'left')\n",
        "\n",
        "# Merge polnomial features into testing dataframe\n",
        "poly_features_test['SK_ID_CURR'] = pd_test['SK_ID_CURR']\n",
        "df_test_poly = pd_test.merge(poly_features_test, on = 'SK_ID_CURR', how = 'left')\n",
        "\n",
        "# Align the dataframes\n",
        "df_train_poly, df_test_poly = df_train_poly.align(df_test_poly, join = 'inner', axis = 1)\n",
        "\n",
        "# Print out the new shapes\n",
        "print('Training data with polynomial features shape: ', df_train_poly.shape)\n",
        "print('Testing data with polynomial features shape:  ', df_test_poly.shape)"
      ],
      "execution_count": 72,
      "outputs": [
        {
          "output_type": "stream",
          "text": [
            "float64    85\n",
            "int64      21\n",
            "object     16\n",
            "dtype: int64\n",
            "Training data with polynomial features shape:  (128091, 117)\n",
            "Testing data with polynomial features shape:   (48744, 117)\n"
          ],
          "name": "stdout"
        }
      ]
    },
    {
      "cell_type": "code",
      "metadata": {
        "id": "pjbj6gHQ5Vm6",
        "colab": {
          "base_uri": "https://localhost:8080/"
        },
        "outputId": "fee0f921-e7be-4999-ddba-d90a6b75b64c"
      },
      "source": [
        "train = poly_features.copy()\n",
        "# features = list(df_train_poly.columns)\n",
        "test = poly_features_test.copy()\n",
        "target = poly_target.copy()\n",
        "# ## FILL IN MISSING VALUE\n",
        "# imputer = SimpleImputer(missing_values=np.nan, strategy='median')\n",
        "\n",
        "# imputer.fit(train)\n",
        "# train = imputer.transform(train)\n",
        "# test = imputer.transform(test)\n",
        "\n",
        "# ## STANDARDIZING VARIABLE\n",
        "# scaler = StandardScaler()\n",
        "\n",
        "# scaler.fit(train)\n",
        "# train = scaler.transform(train)\n",
        "# test = scaler.transform(test)\n",
        "\n",
        "# print('Training data shape: {}'.format(train.shape))\n",
        "# print('Testing data shape: {}'.format(test.shape))\n",
        "target.shape"
      ],
      "execution_count": 80,
      "outputs": [
        {
          "output_type": "execute_result",
          "data": {
            "text/plain": [
              "(128091,)"
            ]
          },
          "metadata": {
            "tags": []
          },
          "execution_count": 80
        }
      ]
    },
    {
      "cell_type": "code",
      "metadata": {
        "id": "7rz6QruB5E7g",
        "colab": {
          "base_uri": "https://localhost:8080/"
        },
        "outputId": "2b2f9abb-9ead-4fe2-be43-a621d5d7f551"
      },
      "source": [
        "lgr = SGDClassifier(loss='log', n_jobs=-1, random_state=50)\n",
        "y_pred_lgr = learn_model(train, target, test, lgr)\n",
        "\n",
        "y_pred_lgr"
      ],
      "execution_count": 81,
      "outputs": [
        {
          "output_type": "execute_result",
          "data": {
            "text/plain": [
              "array([[1., 0.],\n",
              "       [1., 0.],\n",
              "       [1., 0.],\n",
              "       ...,\n",
              "       [1., 0.],\n",
              "       [1., 0.],\n",
              "       [1., 0.]])"
            ]
          },
          "metadata": {
            "tags": []
          },
          "execution_count": 81
        }
      ]
    },
    {
      "cell_type": "code",
      "metadata": {
        "id": "xJltHteL5E7n",
        "colab": {
          "base_uri": "https://localhost:8080/"
        },
        "outputId": "b50dd28e-6e9b-4fad-87ba-5693c6cbc72b"
      },
      "source": [
        "rfc = RandomForestClassifier(n_estimators = 100, random_state = 50, verbose = 1, n_jobs = -1)\n",
        "y_pred_rfc = learn_model(train, target, test, rfc)\n",
        "\n",
        "y_pred_rfc"
      ],
      "execution_count": 83,
      "outputs": [
        {
          "output_type": "stream",
          "text": [
            "[Parallel(n_jobs=-1)]: Using backend ThreadingBackend with 2 concurrent workers.\n",
            "[Parallel(n_jobs=-1)]: Done  46 tasks      | elapsed:   45.6s\n",
            "[Parallel(n_jobs=-1)]: Done 100 out of 100 | elapsed:  1.6min finished\n",
            "[Parallel(n_jobs=2)]: Using backend ThreadingBackend with 2 concurrent workers.\n",
            "[Parallel(n_jobs=2)]: Done  46 tasks      | elapsed:    0.5s\n",
            "[Parallel(n_jobs=2)]: Done 100 out of 100 | elapsed:    1.1s finished\n"
          ],
          "name": "stderr"
        },
        {
          "output_type": "execute_result",
          "data": {
            "text/plain": [
              "array([[0.87, 0.13],\n",
              "       [0.88, 0.12],\n",
              "       [0.97, 0.03],\n",
              "       ...,\n",
              "       [0.77, 0.23],\n",
              "       [0.86, 0.14],\n",
              "       [0.78, 0.22]])"
            ]
          },
          "metadata": {
            "tags": []
          },
          "execution_count": 83
        }
      ]
    }
  ]
}